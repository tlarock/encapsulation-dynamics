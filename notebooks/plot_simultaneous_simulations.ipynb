{
 "cells": [
  {
   "cell_type": "code",
   "execution_count": null,
   "id": "e3a208cf-7b4f-4162-adb9-c4ac1405ed3e",
   "metadata": {},
   "outputs": [],
   "source": [
    "import pickle\n",
    "import sys\n",
    "sys.path.append(\"../src/\")\n",
    "from plot_simulation_results import *"
   ]
  },
  {
   "cell_type": "code",
   "execution_count": null,
   "id": "e8269db9-de27-498a-b51e-d1f4445f2de1",
   "metadata": {},
   "outputs": [],
   "source": [
    "from utils import read_pickles"
   ]
  },
  {
   "cell_type": "code",
   "execution_count": null,
   "id": "daf5ba7e-bf0f-4f61-a67e-d9a200ad530d",
   "metadata": {},
   "outputs": [],
   "source": [
    "import matplotlib.patches as mpatches"
   ]
  },
  {
   "cell_type": "code",
   "execution_count": null,
   "id": "9195a928-227c-4c8f-b18b-6dbda526c63f",
   "metadata": {},
   "outputs": [],
   "source": [
    "import matplotlib.ticker as ticker"
   ]
  },
  {
   "cell_type": "code",
   "execution_count": null,
   "id": "3763a0f7-0d79-46ae-90c3-faa6c9758a14",
   "metadata": {},
   "outputs": [],
   "source": [
    "import matplotlib_defaults"
   ]
  },
  {
   "cell_type": "markdown",
   "id": "bfe792c6-619e-4925-b429-32b5c63b97bb",
   "metadata": {},
   "source": [
    "# Two row: plots then ratios "
   ]
  },
  {
   "cell_type": "code",
   "execution_count": null,
   "id": "980f4599-ed9e-4d2a-8a45-fd26a177c6d2",
   "metadata": {},
   "outputs": [],
   "source": [
    "title_mapping = {\"encapsulation-immediate-strict\": \"Encapsulation Strict\",\n",
    "                  \"encapsulation-immediate\": \"Encapsulation Non-strict\"}"
   ]
  },
  {
   "cell_type": "code",
   "execution_count": null,
   "id": "1279a578-e3c5-41fa-99d6-65ec7d50640e",
   "metadata": {},
   "outputs": [],
   "source": [
    "results_path = \"../results/\"\n",
    "params_dict = {\n",
    "    \"seeding_strategy\": \"edge\",\n",
    "    \"selection\": \"simultaneous\",\n",
    "    \"layer_randomization\": True\n",
    "}\n",
    "key = \"edges_activated\"\n",
    "step = 25"
   ]
  },
  {
   "cell_type": "code",
   "execution_count": null,
   "id": "db4f14d8-044f-476c-9e04-dd5e10a9c4b5",
   "metadata": {},
   "outputs": [],
   "source": [
    "datasets = [\n",
    "    #(\"coauth-DBLP\", 25, 25),\n",
    "    (\"coauth-MAG-Geology\", 25, 25),\n",
    "    (\"coauth-MAG-History\", 25, 25),\n",
    "    (\"contact-high-school\", 25, 25),\n",
    "    (\"contact-primary-school\", 25, 25),\n",
    "    (\"email-Enron\", 25, 25),\n",
    "    (\"email-Eu\", 25, 25)\n",
    "]\n",
    "\n",
    "params_dict[\"threshold\"] = \"all\"\n",
    "normalize = True\n",
    "seed_vals = np.array([1, 10, 100, 1000, 5000, 10000, 100000, 500000])\n",
    "\n",
    "for thresh in [\"all\"]:\n",
    "    params_dict[\"threshold\"] = thresh\n",
    "    for update in [\"encapsulation-immediate-strict\"]:\n",
    "        params_dict[\"update\"] = update\n",
    "        fig = plt.figure(figsize=(20,6))\n",
    "        gridsize = (2, len(datasets))\n",
    "\n",
    "        col_idx = 0\n",
    "        for dataset_name, steps, runs in datasets:\n",
    "            results_prefix = f\"{results_path}{dataset_name}/{dataset_name}\"\n",
    "            params_dict[\"steps\"] = steps\n",
    "            params_dict[\"runs\"] = runs\n",
    "\n",
    "            ax1 = plt.subplot2grid(gridsize, (0, col_idx))\n",
    "            ax2 = plt.subplot2grid(gridsize, (1, col_idx))\n",
    "            labels = []\n",
    "            for biased_seed in [\"uniform\", \"size_biased\", \"inverse_size\", \"smallest_first\"]:\n",
    "                params_dict[\"seed_funct\"] = biased_seed\n",
    "                activations_data = {\n",
    "                    \"obs\": [],\n",
    "                    \"obs_std\":[],\n",
    "                    \"rnd\": [],\n",
    "                    \"rnd_std\":[],\n",
    "                    \"obs_nonorm\": [],\n",
    "                    \"rnd_nonorm\": []\n",
    "                }\n",
    "                seed_vals_used = []\n",
    "                for num_seeds in seed_vals:\n",
    "                    params_dict[\"ia\"] = num_seeds\n",
    "                    output_obs, output_rnd = read_pickles(results_prefix, params_dict=params_dict, print_exceptions=False)\n",
    "                    if not output_obs:\n",
    "                        continue\n",
    "                    seed_vals_used.append(num_seeds)\n",
    "                    obs_norm = rnd_norm = 1\n",
    "                    obs = output_obs[key].cumsum(axis=1)[:, step]\n",
    "                    rnd = output_rnd[key].cumsum(axis=1)[:, step]\n",
    "                    obs -= num_seeds\n",
    "                    rnd -= num_seeds\n",
    "                    activations_data[\"obs_nonorm\"].append(obs.mean())\n",
    "                    activations_data[\"rnd_nonorm\"].append(rnd.mean())\n",
    "                    obs_norm = output_obs[\"total_edges\"] - num_seeds\n",
    "                    rnd_norm = output_rnd[\"total_edges\"] - num_seeds\n",
    "\n",
    "                    if not normalize:\n",
    "                        activations_data[\"obs\"].append((obs).mean())\n",
    "                        activations_data[\"obs_std\"].append((obs).std())\n",
    "\n",
    "                        activations_data[\"rnd\"].append((rnd).mean())\n",
    "                        activations_data[\"rnd_std\"].append((rnd).std())\n",
    "                    else:\n",
    "                        activations_data[\"obs\"].append((obs / obs_norm).mean())\n",
    "                        activations_data[\"obs_std\"].append((obs / obs_norm).std())\n",
    "\n",
    "                        activations_data[\"rnd\"].append((rnd / rnd_norm).mean())\n",
    "                        activations_data[\"rnd_std\"].append((rnd / rnd_norm).std())\n",
    "\n",
    "\n",
    "\n",
    "                ax1.set_title(dataset_name, fontsize=14)\n",
    "                v = ax1.errorbar(seed_vals_used, activations_data[\"obs\"], yerr=activations_data[\"obs_std\"],\n",
    "                                 marker=\"o\",\n",
    "                                 alpha=0.7,\n",
    "                                 label=biased_seed)\n",
    "                #add_label(v, biased_seed, labels)\n",
    "                ax1.errorbar(seed_vals_used, activations_data[\"rnd\"], yerr=activations_data[\"rnd_std\"],\n",
    "                             marker=\"^\",\n",
    "                             linestyle='--',\n",
    "                             alpha=0.5,\n",
    "                             color=v[0].get_markerfacecolor())\n",
    "\n",
    "                ax2.plot(seed_vals_used, np.array(activations_data[\"obs\"]) - np.array(activations_data[\"rnd\"]),\n",
    "                                 marker=\"o\",\n",
    "                                 alpha=0.7,\n",
    "                                 label=biased_seed)\n",
    "\n",
    "            if col_idx == 0:\n",
    "                ax1.legend(ncols=4, bbox_to_anchor=(2.75,-1.8), loc=\"upper left\", frameon=False)\n",
    "\n",
    "            if col_idx == 0:\n",
    "                ax1.set_ylabel(\"Edges Activated\") \n",
    "                ax2.set_ylabel(r\"Observed - Random\") \n",
    "\n",
    "            #if norm_type != \"none\":\n",
    "            #    ax1.set_ylim((-0.02, 1.02))\n",
    "\n",
    "            ax2.hlines(0.0, 1, max(seed_vals_used),  linestyles='--', alpha=0.5, color=\"black\")\n",
    "            #ax2.set_ylim(0.5, 7)\n",
    "            xticks = [10**i for i in range(0, int(max(np.log10(seed_vals_used))+1))]\n",
    "            #if len(xticks) > 3:\n",
    "            #    xticks = [10**i for i in range(0, int(max(np.log10(curr_seed_vals))+1), 2)]\n",
    "\n",
    "            ax1.set_ylim(-0.1, 1.1)\n",
    "            ax1.hlines(1.0, 1, max(seed_vals_used), color=\"black\", alpha=0.3, linestyle=\"--\")\n",
    "            ax2.set_ylim(-0.1, 0.7)\n",
    "            for ax in [ax1, ax2]:\n",
    "                ax.set(xscale=\"log\", xticks=xticks)\n",
    "                ax.spines['top'].set_visible(False)\n",
    "                ax.spines['right'].set_visible(False)\n",
    "\n",
    "            #y = curr_seed_vals / output_obs[\"total_edges\"]\n",
    "            #ax1.plot(curr_seed_vals, y, marker='o', alpha=0.5, color=\"black\")\n",
    "            col_idx += 1\n",
    "\n",
    "        fig.subplots_adjust(wspace=0.5, hspace=0.2)\n",
    "        title = update\n",
    "        if update in title_mapping:\n",
    "            title = title_mapping[update]\n",
    "\n",
    "        fig.supxlabel(\"# Seeds\", size=15, y=-0.05)\n",
    "\n",
    "\n",
    "        fig.suptitle(fr\"{title} Dynamics, {step} steps, $\\tau=${params_dict['threshold']}\", y=1)\n",
    "        #fig.savefig(f\"/Users/yanting/Desktop/Dissertation/code/encapsulation-dynamics-main/results/plots/simultaneous-seed-simulations/seed_simulation_{filename}_{params_dict['threshold']}_combo.pdf\", bbox_inches=\"tight\")"
   ]
  },
  {
   "cell_type": "code",
   "execution_count": null,
   "id": "a781ddd9",
   "metadata": {},
   "outputs": [],
   "source": []
  },
  {
   "cell_type": "code",
   "execution_count": null,
   "id": "f44c0de1",
   "metadata": {},
   "outputs": [],
   "source": []
  }
 ],
 "metadata": {
  "kernelspec": {
   "display_name": "Python 3 (ipykernel)",
   "language": "python",
   "name": "python3"
  },
  "language_info": {
   "codemirror_mode": {
    "name": "ipython",
    "version": 3
   },
   "file_extension": ".py",
   "mimetype": "text/x-python",
   "name": "python",
   "nbconvert_exporter": "python",
   "pygments_lexer": "ipython3",
   "version": "3.8.11"
  }
 },
 "nbformat": 4,
 "nbformat_minor": 5
}
