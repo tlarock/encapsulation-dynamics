{
 "cells": [
  {
   "cell_type": "code",
   "execution_count": null,
   "id": "a2c07934-de8c-4886-98d3-ac53a1b41c9a",
   "metadata": {},
   "outputs": [],
   "source": [
    "import matplotlib.pyplot as plt\n",
    "\n",
    "SMALL_SIZE = 12\n",
    "MEDIUM_SIZE = 14\n",
    "BIGGER_SIZE = 16\n",
    "\n",
    "plt.rc('font', size=SMALL_SIZE)          # controls default text sizes\n",
    "plt.rc('axes', titlesize=SMALL_SIZE)     # fontsize of the axes title\n",
    "plt.rc('axes', labelsize=MEDIUM_SIZE)    # fontsize of the x and y labels\n",
    "plt.rc('xtick', labelsize=SMALL_SIZE)    # fontsize of the tick labels\n",
    "plt.rc('ytick', labelsize=SMALL_SIZE)    # fontsize of the tick labels\n",
    "plt.rc('legend', fontsize=SMALL_SIZE)    # legend fontsize\n",
    "plt.rc('figure', titlesize=BIGGER_SIZE)  # fontsize of the figure title\n",
    "\n",
    "%matplotlib inline"
   ]
  },
  {
   "cell_type": "code",
   "execution_count": null,
   "id": "68d7bb68-87e9-4faf-a6eb-47eb3178e8eb",
   "metadata": {},
   "outputs": [],
   "source": [
    "import numpy as np\n",
    "import networkx as nx\n",
    "from collections import Counter"
   ]
  },
  {
   "cell_type": "code",
   "execution_count": null,
   "id": "6d98043a-399c-4eec-8a63-0e82446020d7",
   "metadata": {},
   "outputs": [],
   "source": [
    "import sys\n",
    "sys.path.append('../src')\n",
    "from random_nested_hypergraph import random_nested_hypergraph\n",
    "from random_degree_model import random_degree_hypergraph\n",
    "from encapsulation_dag import encapsulation_dag, overlap_dag, overlap_graph"
   ]
  },
  {
   "cell_type": "code",
   "execution_count": null,
   "id": "92c3eb27-08ff-404a-a4e3-56abd670d2ee",
   "metadata": {},
   "outputs": [],
   "source": [
    "N = 20\n",
    "max_size = 4\n",
    "H = 5\n",
    "epsilons = {2: 1.0, 3: 1.0, 4:1.0}\n",
    "max_size_overlap = 1"
   ]
  },
  {
   "cell_type": "code",
   "execution_count": null,
   "id": "2c7df65d-7929-4a4f-b2c1-2a6538cd99e6",
   "metadata": {},
   "outputs": [],
   "source": [
    "def get_plot_dag(N, max_size, H, epsilons, max_size_overlap=-1):\n",
    "    hyperedges = random_nested_hypergraph(N, max_size, H, epsilons, max_size_overlap=max_size_overlap)\n",
    "    dag, nth, he_map = encapsulation_dag(hyperedges)\n",
    "    size_dict = dict()\n",
    "    for node in dag.nodes():\n",
    "        size_dict[node] = len(node)\n",
    "\n",
    "    nx.set_node_attributes(dag, size_dict, name=\"subset\")\n",
    "    return dag, hyperedges"
   ]
  },
  {
   "cell_type": "code",
   "execution_count": null,
   "id": "19c0bdeb-ddb7-4f04-ac7f-5cda75bf603c",
   "metadata": {},
   "outputs": [],
   "source": [
    "def get_plot_overdag(N, max_size, H, epsilons, max_size_overlap=-1):\n",
    "    hyperedges = random_nested_hypergraph(N, max_size, H, epsilons, max_size_overlap=max_size_overlap)\n",
    "    dag, nth, he_map = overlap_dag(hyperedges)\n",
    "    size_dict = dict()\n",
    "    for node in dag.nodes():\n",
    "        size_dict[node] = len(node)\n",
    "\n",
    "    nx.set_node_attributes(dag, size_dict, name=\"subset\")\n",
    "    return dag, hyperedges"
   ]
  },
  {
   "cell_type": "code",
   "execution_count": null,
   "id": "4fbffe51-fc83-4ee0-93b4-d97a4ae5744f",
   "metadata": {},
   "outputs": [],
   "source": [
    "def get_plot_overlap(N, max_size, H, epsilons, max_size_overlap=-1):\n",
    "    hyperedges = random_nested_hypergraph(N, max_size, H, epsilons, max_size_overlap=max_size_overlap)\n",
    "    dag, nth, he_map = overlap_graph(hyperedges)\n",
    "    size_dict = dict()\n",
    "    for node in dag.nodes():\n",
    "        size_dict[node] = len(node)\n",
    "\n",
    "    nx.set_node_attributes(dag, size_dict, name=\"subset\")\n",
    "    return dag, hyperedges"
   ]
  },
  {
   "cell_type": "code",
   "execution_count": null,
   "id": "09b9998c-4777-4e41-8fd3-be73ce81bc07",
   "metadata": {},
   "outputs": [],
   "source": [
    "# Varying both\n",
    "fig, axs = plt.subplots(nrows=3, ncols=3, figsize=(12, 6), squeeze=False)\n",
    "\n",
    "for row_idx, ep2 in enumerate([1.0, 0.5, 0.0]):\n",
    "    for col_idx, ep3 in enumerate([1.0, 0.5, 0.0]):\n",
    "        epsilons = {2: ep2, 3: ep3}\n",
    "        dag, _ = get_plot_dag(N, max_size, H, epsilons, max_size_overlap=max_size_overlap)\n",
    "        axs[row_idx][col_idx].set_axis_off()\n",
    "        multipart_layout = nx.multipartite_layout(dag, align=\"horizontal\")\n",
    "        nx.draw_networkx(dag, node_size=40, arrowsize=2, pos=multipart_layout, ax=axs[row_idx][col_idx],\n",
    "                         with_labels=False, node_color=\"dodgerblue\", alpha=0.5)\n",
    "        axs[row_idx][col_idx].set(title=fr\"$\\epsilon_2={ep2}, \\epsilon_3={ep3}$\")\n",
    "        axs[row_idx][col_idx].title.set_fontsize(15)\n",
    "        if col_idx == 0:\n",
    "            # Annoying one-liner to get the y-position of each layer\n",
    "            y_dict = {size:[multipart_layout[node]\n",
    "                            for node in dag.nodes()\n",
    "                            if len(node) == size][0][1]\n",
    "                      for size in range(2, max_size+1)}\n",
    "            for size in y_dict:\n",
    "                axs[row_idx][col_idx].text(-1.55, y_dict[size], fr\"$s={size}$\", size=13)\n",
    "            #if row_idx == 0:\n",
    "            #    axs[row_idx][col_idx].text(-1.8, y_dict[max(y_dict.keys())]+0.05, \"Hyperedge Size\", size=15)\n",
    "fig.subplots_adjust(wspace=0.0)\n",
    "fig.suptitle(r\"Encapsulation DAGs for Varying $\\epsilon_s$\", size=16)\n",
    "fig.tight_layout()\n",
    "#fig.savefig(\"../results/plots/nested-dag-example.pdf\")"
   ]
  },
  {
   "cell_type": "code",
   "execution_count": null,
   "id": "7228075d-5a22-41e3-ba1a-c085ac0f232e",
   "metadata": {},
   "outputs": [],
   "source": [
    "# Overlap DAG\n",
    "with_uniform = False\n",
    "colors = {1:\"#e5d262\", 2:\"#7de5b8\", 3: \"#9be95d\"}\n",
    "for num in range(1):\n",
    "    if with_uniform:\n",
    "        fig, axs = plt.subplots(nrows=3, ncols=4, figsize=(12, 6), squeeze=False)\n",
    "    else:\n",
    "        fig, axs = plt.subplots(nrows=3, ncols=3, figsize=(12, 6), squeeze=False)\n",
    "    for row_idx, ep2 in enumerate([1.0, 0.5, 0.0]):\n",
    "        for col_idx, ep3 in enumerate([1.0, 0.5, 0.0]):\n",
    "            epsilons = {2: ep2, 3: ep3}\n",
    "            dag, hyperedges = get_plot_overdag(N, max_size, H, epsilons, max_size_overlap = 1)\n",
    "            multipart_layout = nx.multipartite_layout(dag, align=\"horizontal\")\n",
    "            nx.draw_networkx_nodes(dag, multipart_layout, node_size=40,\n",
    "                                   node_color=\"dodgerblue\", alpha=0.5, ax=axs[row_idx][col_idx])\n",
    "            edgelist = [(u,v) for u,v,data in dag.edges(data=True) if data[\"weight\"] < 1.0]\n",
    "            edge_color = np.array([float(dag.edges[(u,v)][\"weight\"]) for u,v in edgelist])\n",
    "            #edge_color = [colors[dag.edges[(u,v)][\"overlap\"]] for u,v in edgelist]\n",
    "            nx.draw_networkx_edges(dag, multipart_layout, edgelist=edgelist,\n",
    "                                   edge_color=edge_color, edge_cmap=plt.cm.Greens,\n",
    "                                   arrowsize=2, ax=axs[row_idx][col_idx], alpha=0.5)\n",
    "            edgelist = [(u,v) for u,v,data in dag.edges(data=True) if data[\"weight\"] == 1.0]\n",
    "            nx.draw_networkx_edges(dag, multipart_layout, edgelist=edgelist, edge_color=\"black\",\n",
    "                                   arrowsize=2, ax=axs[row_idx][col_idx], alpha=0.4)\n",
    "            axs[row_idx][col_idx].set(title=fr\"$\\epsilon_2={ep2}, \\epsilon_3={ep3}$\")\n",
    "            if col_idx == 0:\n",
    "                # Annoying one-liner to get the y-position of each layer\n",
    "                y_dict = {size:[multipart_layout[node]\n",
    "                                for node in dag.nodes()\n",
    "                                if len(node) == size][0][1]\n",
    "                          for size in range(2, max_size+1)}\n",
    "                for size in y_dict:\n",
    "                    axs[row_idx][col_idx].text(-1.55, y_dict[size], fr\"$s={size}$\")\n",
    "\n",
    "    if with_uniform:\n",
    "        # Add uniform random for comparison\n",
    "        size_list = [len(he) for he in hyperedges]\n",
    "        size_dist = Counter(size_list)\n",
    "        uniform_hyperedges = random_degree_hypergraph(N, size_dist, correlation=\"uncorrelated\")\n",
    "        dag, nth, he_map = overlap_dag(uniform_hyperedges)\n",
    "        size_dict = dict()\n",
    "        for node in dag.nodes():\n",
    "            size_dict[node] = len(node)\n",
    "\n",
    "        nx.set_node_attributes(dag, size_dict, name=\"subset\")\n",
    "        col_idx = 3\n",
    "        row_idx = 1\n",
    "        axs[row_idx][col_idx].set_axis_off()\n",
    "        multipart_layout = nx.multipartite_layout(dag, align=\"horizontal\")\n",
    "        nx.draw_networkx_nodes(dag, multipart_layout, node_size=40,\n",
    "                               node_color=\"dodgerblue\", alpha=0.5, ax=axs[row_idx][col_idx])\n",
    "        edgelist = [(u,v) for u,v,data in dag.edges(data=True) if data[\"weight\"] < 1.0]\n",
    "        edge_color = np.array([float(dag.edges[(u,v)][\"weight\"]) for u,v in edgelist])\n",
    "        #edge_color = [colors[dag.edges[(u,v)][\"overlap\"]] for u,v in edgelist]\n",
    "        nx.draw_networkx_edges(dag, multipart_layout, edgelist=edgelist,\n",
    "                               edge_color=edge_color, edge_cmap=plt.cm.Greens,\n",
    "                               arrowsize=2, ax=axs[row_idx][col_idx], alpha=0.5)\n",
    "        edgelist = [(u,v) for u,v,data in dag.edges(data=True) if data[\"weight\"] == 1.0]\n",
    "        nx.draw_networkx_edges(dag, multipart_layout, edgelist=edgelist, edge_color=\"black\",\n",
    "                               arrowsize=2, ax=axs[row_idx][col_idx], alpha=0.4)\n",
    "        axs[row_idx][col_idx].set(title=fr\"Uniform\")\n",
    "\n",
    "    for row_idx in range(3):\n",
    "        for col_idx in range(3):\n",
    "            axs[row_idx][col_idx].set_axis_off()\n",
    "\n",
    "    fig.subplots_adjust(wspace=0.0)\n",
    "    fig.suptitle(r\"Overlap Structures for Varying $\\epsilon_s$\", size=16)\n",
    "    fig.tight_layout()\n",
    "    #fig.savefig(f\"../results/plots/nested-overdag-example.pdf\")"
   ]
  },
  {
   "cell_type": "code",
   "execution_count": null,
   "id": "1a958d6f-c5ca-4554-a5a7-fc7f37756448",
   "metadata": {},
   "outputs": [],
   "source": []
  },
  {
   "cell_type": "code",
   "execution_count": null,
   "id": "b4c3f27c-590c-4a1d-94ba-06d8e440a232",
   "metadata": {},
   "outputs": [],
   "source": []
  },
  {
   "cell_type": "markdown",
   "id": "5bd5a7b7-f116-4b1d-b17b-31c217c0d601",
   "metadata": {},
   "source": [
    "# Average DAG edges + overlap size"
   ]
  },
  {
   "cell_type": "code",
   "execution_count": null,
   "id": "3785350c-eb9c-4413-8d8b-8136d294dd46",
   "metadata": {},
   "outputs": [],
   "source": [
    "from collections import defaultdict"
   ]
  },
  {
   "cell_type": "code",
   "execution_count": null,
   "id": "a5fa94c7-42f9-4275-aa15-84dd9d5ff940",
   "metadata": {},
   "outputs": [],
   "source": [
    "colors = {1:\"#e5d262\", 2:\"#7de5b8\", 3: \"#9be95d\"}\n",
    "eps_vals = [0.0, 0.25, 0.5, 0.75, 1.0]\n",
    "dag_edges = {ep:defaultdict(list) for ep in eps_vals}\n",
    "overlap_edges = {ep:defaultdict(list) for ep in eps_vals}\n",
    "\n",
    "\n",
    "for num in range(1000):\n",
    "    for row_idx, ep2 in enumerate(eps_vals):\n",
    "        for col_idx, ep3 in enumerate(eps_vals):\n",
    "            epsilons = {2: ep2, 3: ep3}\n",
    "            dag, hyperedges = get_plot_overdag(N, max_size, H, epsilons, max_size_overlap = max_size_overlap)\n",
    "            edgelist = [(u,v) for u,v,data in dag.edges(data=True) if data[\"weight\"] < 1.0]\n",
    "            overlap_edges[ep2][ep3].append(len(edgelist))\n",
    "            edge_color = np.array([float(dag.edges[(u,v)][\"weight\"]) for u,v in edgelist])\n",
    "            edgelist = [(u,v) for u,v,data in dag.edges(data=True) if data[\"weight\"] == 1.0]\n",
    "            dag_edges[ep2][ep3].append(len(edgelist))\n",
    "            \n",
    "            \n",
    "overlap_arr = np.zeros((len(eps_vals), len(eps_vals)))\n",
    "dag_arr = np.zeros((len(eps_vals), len(eps_vals)))\n",
    "for row_idx, ep2 in enumerate(eps_vals):\n",
    "    for col_idx, ep3 in enumerate(eps_vals):\n",
    "        dag_arr[row_idx][col_idx] = np.mean(dag_edges[ep2][ep3])\n",
    "        overlap_arr[row_idx][col_idx] = np.mean(overlap_edges[ep2][ep3])"
   ]
  },
  {
   "cell_type": "code",
   "execution_count": null,
   "id": "87629346-600f-4dd9-8f49-3c59126564ca",
   "metadata": {},
   "outputs": [],
   "source": [
    "fig, axs = plt.subplots(2, 1, figsize=(4,7), squeeze=False)\n",
    "\n",
    "row_idx = 0\n",
    "col_idx = 0\n",
    "hm = axs[row_idx][col_idx].imshow(dag_arr, origin=\"lower\")\n",
    "fig.colorbar(hm, ax=axs[row_idx][col_idx], location='right', shrink=0.9)\n",
    "axs[row_idx][col_idx].set(xticks=list(range(len(eps_vals))), yticks=list(range(len(eps_vals))),\n",
    "                          xticklabels=eps_vals, yticklabels=eps_vals,\n",
    "                         title=\"DAG Edges\", xlabel=r\"$\\epsilon_3$\", ylabel=r\"$\\epsilon_2$\")\n",
    "\n",
    "row_idx = 1\n",
    "hm = axs[row_idx][col_idx].imshow(overlap_arr, origin=\"lower\")\n",
    "fig.colorbar(hm, ax=axs[row_idx][col_idx], location='right', shrink=0.9)\n",
    "axs[row_idx][col_idx].set(xticks=list(range(len(eps_vals))), yticks=list(range(len(eps_vals))),\n",
    "                          xticklabels=eps_vals, yticklabels=eps_vals,\n",
    "                          title=\"Overlap Edges (excluding DAG)\", xlabel=r\"$\\epsilon_3$\", ylabel=r\"$\\epsilon_2$\")\n",
    "fig.tight_layout()\n",
    "#fig.savefig(\"../results/plots/edge-overlap-heatmaps.pdf\")"
   ]
  },
  {
   "cell_type": "markdown",
   "id": "abf05b4d-2160-427f-9290-2802ab78f7c9",
   "metadata": {},
   "source": [
    "# Visualizing random degree hypergraphs + distributions"
   ]
  },
  {
   "cell_type": "code",
   "execution_count": null,
   "id": "4014a92b-03be-4aad-8da9-8f796fe017c8",
   "metadata": {},
   "outputs": [],
   "source": [
    "import hypernetx as hnx\n",
    "from encapsulation_dag import get_overlap_dists"
   ]
  },
  {
   "cell_type": "code",
   "execution_count": null,
   "id": "fcc54c43-c483-4824-b25e-9ca45fd0b9e2",
   "metadata": {},
   "outputs": [],
   "source": [
    "# Hypergraph model parameters\n",
    "N = 25\n",
    "size_distribution = {\n",
    "    5: 4,\n",
    "    4: 12,\n",
    "    3: 14,\n",
    "    2: 16\n",
    "}\n",
    "first_N = 8"
   ]
  },
  {
   "cell_type": "code",
   "execution_count": null,
   "id": "f8fa7064-b71a-4fc0-8f66-491d0da7496d",
   "metadata": {},
   "outputs": [],
   "source": [
    "def get_connected_hyperedges(N, size_distribution, correlation, first_N=0):\n",
    "    hyperedges = random_degree_hypergraph(N, size_distribution, correlation=correlation, first_N=first_N)\n",
    "    while not check_hyperedges_connectivity(hyperedges):\n",
    "        hyperedges = random_degree_hypergraph(N, size_distribution, correlation=correlation, first_N=first_N)\n",
    "    return hyperedges"
   ]
  },
  {
   "cell_type": "code",
   "execution_count": null,
   "id": "0cfc9c68-88c0-48ad-a947-0b9bc93e00ec",
   "metadata": {},
   "outputs": [],
   "source": [
    "correlation = \"uncorrelated\"\n",
    "hyperedges = get_connected_hyperedges(N, size_distribution, correlation)\n",
    "    \n",
    "hyperedges_as_strings = []\n",
    "for he in hyperedges:\n",
    "    hyperedges_as_strings.append((str(node) for node in he))\n",
    "hypergraph = {idx: he for idx, he in enumerate(hyperedges_as_strings)}\n",
    "fig, axs = plt.subplots(1, 2, figsize=(7, 4), squeeze=False)\n",
    "hnx.draw(hnx.Hypergraph(hypergraph), ax=axs[0][1])\n",
    "H_xgi = xgi.Hypergraph(hyperedges)\n",
    "axs[0][0].hist(list(H_xgi.degree().values()))\n",
    "axs[0][0].set(xlabel=\"Degree\", ylabel=\"# Nodes\")"
   ]
  },
  {
   "cell_type": "code",
   "execution_count": null,
   "id": "d87617c1-4d87-4724-a1b6-7ed8e286e266",
   "metadata": {},
   "outputs": [],
   "source": [
    "correlation = \"positive\"\n",
    "hyperedges = get_connected_hyperedges(N, size_distribution, correlation)\n",
    "\n",
    "hyperedges_as_strings = []\n",
    "for he in hyperedges:\n",
    "    hyperedges_as_strings.append((str(node) for node in he))\n",
    "hypergraph = {idx: he for idx, he in enumerate(hyperedges_as_strings)}\n",
    "fig, axs = plt.subplots(1, 2, figsize=(7, 4), squeeze=False)\n",
    "hnx.draw(hnx.Hypergraph(hypergraph), ax=axs[0][1])\n",
    "H_xgi = xgi.Hypergraph(hyperedges)\n",
    "axs[0][0].hist(list(H_xgi.degree().values()))\n",
    "axs[0][0].set(xlabel=\"Degree\", ylabel=\"# Nodes\")"
   ]
  },
  {
   "cell_type": "code",
   "execution_count": null,
   "id": "d8880046-ca1e-4bb2-aa6a-06ba17c7b0a2",
   "metadata": {},
   "outputs": [],
   "source": [
    "def get_overlap_plot_data(dag):\n",
    "    xs = []\n",
    "    ys = []\n",
    "    labels = []\n",
    "    overlap_dists = get_overlap_dists(dag)\n",
    "    for m in sorted(overlap_dists.keys(), reverse=True):\n",
    "        x = list(range(2, m))\n",
    "        y = np.zeros(len(x))\n",
    "        for n in range(2, m):\n",
    "            if n in overlap_dists[m]:\n",
    "                y[n-2] = np.mean(overlap_dists[m][n])\n",
    "\n",
    "        xs.append(list(x))\n",
    "        ys.append(list(y))\n",
    "        labels.append(m)\n",
    "    return xs, ys, labels"
   ]
  },
  {
   "cell_type": "code",
   "execution_count": null,
   "id": "fd41034c-52fe-4500-a96a-25a2aa397297",
   "metadata": {},
   "outputs": [],
   "source": [
    "fig, axs = plt.subplots(nrows=1, ncols=2, figsize=(7, 4), squeeze=False, sharey=True)\n",
    "for cidx, correlation in enumerate([\"uncorrelated\", \"positive\"]):\n",
    "    hyperedges = get_connected_hyperedges(N, size_distribution, correlation, first_N)\n",
    "    dag, _, _ = encapsulation_dag(hyperedges)\n",
    "    xs, ys, labels = get_overlap_plot_data(dag)\n",
    "    for i in range(len(xs)):\n",
    "        axs[0][cidx].plot(xs[i], ys[i], 'o-', label=labels[i])\n",
    "    axs[0][cidx].legend()\n",
    "    axs[0][cidx].set(title=correlation,\n",
    "                  xlabel=\"n\",\n",
    "                  ylabel=\"Avg # Encapsulated\",\n",
    "                  xticks=list(range(2, 5))\n",
    "                 )"
   ]
  },
  {
   "cell_type": "code",
   "execution_count": null,
   "id": "56172caa-e201-4d14-b830-b709fd558044",
   "metadata": {},
   "outputs": [],
   "source": [
    "ep2 = 0.0\n",
    "x = []\n",
    "y = []\n",
    "y_std = []\n",
    "for ep3 in sorted(dag_edges[ep2].keys()):\n",
    "    x.append(ep3)\n",
    "    y.append(np.mean(dag_edges[ep2][ep3]))\n",
    "    y_std.append(np.std(dag_edges[ep2][ep3]))\n",
    "    \n",
    "plt.errorbar(x, y, yerr=y_std, marker=\"o\")\n",
    "plt.xticks([ep3 for ep3 in sorted(dag_edges[ep2].keys())])\n",
    "plt.xlabel(r\"$\\epsilon_3$\")\n",
    "plt.title(fr\"$\\epsilon_2={ep2}$\")"
   ]
  },
  {
   "cell_type": "code",
   "execution_count": null,
   "id": "ef5c9ef2-8c00-42b4-a9a4-97e36cdc1e3b",
   "metadata": {},
   "outputs": [],
   "source": [
    "ep2 = 1.0\n",
    "x = []\n",
    "y = []\n",
    "y_std = []\n",
    "for ep3 in sorted(overlap_edges[ep2].keys()):\n",
    "    x.append(ep3)\n",
    "    y.append(np.mean(overlap_edges[ep2][ep3]))\n",
    "    y_std.append(np.std(overlap_edges[ep2][ep3]))\n",
    "    \n",
    "plt.errorbar(x, y, yerr=y_std, marker=\"o\")\n",
    "plt.xticks([ep3 for ep3 in sorted(overlap_edges[ep2].keys())])\n",
    "plt.xlabel(r\"$\\epsilon_3$\")\n",
    "plt.title(fr\"$\\epsilon_2={ep2}$\")"
   ]
  },
  {
   "cell_type": "markdown",
   "id": "edf01503-8a91-4207-9906-841bf45e84c4",
   "metadata": {},
   "source": [
    "# In real data"
   ]
  },
  {
   "cell_type": "code",
   "execution_count": null,
   "id": "5306fc94-009e-4c4d-ac9d-b7c61d0577bf",
   "metadata": {},
   "outputs": [],
   "source": [
    "from utils import read_data"
   ]
  },
  {
   "cell_type": "code",
   "execution_count": null,
   "id": "3cdf2ce1-94bf-44a8-b29b-8163dc65a40d",
   "metadata": {},
   "outputs": [],
   "source": [
    "hyperedges = read_data(\"../data/coauth-MAG-Geology-full/coauth-MAG-Geology-full-\")\n",
    "hyperedges = list(set([tuple(he) for he in hyperedges if 2 < len(he) < 7]))"
   ]
  },
  {
   "cell_type": "code",
   "execution_count": null,
   "id": "60eb411a-5b77-4989-94a2-8e0990ffefe5",
   "metadata": {},
   "outputs": [],
   "source": [
    "dag, nth, he_map = encapsulation_dag(hyperedges)\n",
    "size_dict = dict()\n",
    "for node in dag.nodes():\n",
    "    size_dict[node] = len(node)\n",
    "\n",
    "nx.set_node_attributes(dag, size_dict, name=\"subset\")"
   ]
  },
  {
   "cell_type": "code",
   "execution_count": null,
   "id": "2f267c80-5f48-4551-9931-ebfc2325832c",
   "metadata": {},
   "outputs": [],
   "source": [
    "multipart_layout = nx.multipartite_layout(dag, align=\"horizontal\")"
   ]
  },
  {
   "cell_type": "code",
   "execution_count": null,
   "id": "cad8a349-d22a-474d-98c5-dc33954e9f3a",
   "metadata": {},
   "outputs": [],
   "source": [
    "fig, axs = plt.subplots(nrows=1, ncols=1, figsize=(12, 8), squeeze=False)\n",
    "row_idx = col_idx = 0\n",
    "nx.draw_networkx(dag, node_size=40, pos=multipart_layout,\n",
    "                with_labels=False, node_color=\"dodgerblue\", alpha=0.5, ax=axs[row_idx][col_idx])"
   ]
  },
  {
   "cell_type": "code",
   "execution_count": null,
   "id": "6ca572ee-f2b4-46ca-9128-fb0344e59029",
   "metadata": {},
   "outputs": [],
   "source": []
  }
 ],
 "metadata": {
  "kernelspec": {
   "display_name": "Python 3 (ipykernel)",
   "language": "python",
   "name": "python3"
  },
  "language_info": {
   "codemirror_mode": {
    "name": "ipython",
    "version": 3
   },
   "file_extension": ".py",
   "mimetype": "text/x-python",
   "name": "python",
   "nbconvert_exporter": "python",
   "pygments_lexer": "ipython3",
   "version": "3.9.17"
  }
 },
 "nbformat": 4,
 "nbformat_minor": 5
}
